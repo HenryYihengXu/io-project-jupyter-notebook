{
 "cells": [
  {
   "cell_type": "code",
   "execution_count": 1,
   "id": "5ac74941",
   "metadata": {
    "collapsed": true
   },
   "outputs": [
    {
     "name": "stdout",
     "output_type": "stream",
     "text": [
      "The Zen of Python, by Tim Peters\n",
      "\n",
      "Beautiful is better than ugly.\n",
      "Explicit is better than implicit.\n",
      "Simple is better than complex.\n",
      "Complex is better than complicated.\n",
      "Flat is better than nested.\n",
      "Sparse is better than dense.\n",
      "Readability counts.\n",
      "Special cases aren't special enough to break the rules.\n",
      "Although practicality beats purity.\n",
      "Errors should never pass silently.\n",
      "Unless explicitly silenced.\n",
      "In the face of ambiguity, refuse the temptation to guess.\n",
      "There should be one-- and preferably only one --obvious way to do it.\n",
      "Although that way may not be obvious at first unless you're Dutch.\n",
      "Now is better than never.\n",
      "Although never is often better than *right* now.\n",
      "If the implementation is hard to explain, it's a bad idea.\n",
      "If the implementation is easy to explain, it may be a good idea.\n",
      "Namespaces are one honking great idea -- let's do more of those!\n"
     ]
    }
   ],
   "source": [
    "import sys\n",
    "import os\n",
    "import matplotlib as mpl\n",
    "import matplotlib.pyplot as plt\n",
    "import numpy as np\n",
    "import pandas as pd\n",
    "sys.path.insert(1, os.path.join(sys.path[0], '/Users/henryxu/Desktop/Research/prismio'))\n",
    "from prismio.io_frame import IOFrame\n",
    "from prismio.io_frame_plotter import IOFramePlotter\n",
    "import seaborn as sns"
   ]
  },
  {
   "cell_type": "markdown",
   "id": "272e15b8",
   "metadata": {},
   "source": [
    "#### read ior-t4k cori regular strong profiles"
   ]
  },
  {
   "cell_type": "code",
   "execution_count": 2,
   "id": "3ee79644",
   "metadata": {},
   "outputs": [],
   "source": [
    "it4kcrs64 = IOFrame(pd.read_pickle(\"/Users/henryxu/Desktop/Research/profiles/pickled_ioframe/ior-t4k/ior-t4k.cori.regular.strong.64.pkl\"),\n",
    "                    pd.read_pickle(\"/Users/henryxu/Desktop/Research/profiles/pickled_ioframe/ior-t4k/ior-t4k.cori.regular.strong.64.meta.pkl\")\n",
    "                )\n",
    "it4kcrs128 = IOFrame(pd.read_pickle(\"/Users/henryxu/Desktop/Research/profiles/pickled_ioframe/ior-t4k/ior-t4k.cori.regular.strong.128.pkl\"),\n",
    "                    pd.read_pickle(\"/Users/henryxu/Desktop/Research/profiles/pickled_ioframe/ior-t4k/ior-t4k.cori.regular.strong.128.meta.pkl\")\n",
    "                )\n",
    "it4kcrs256 = IOFrame(pd.read_pickle(\"/Users/henryxu/Desktop/Research/profiles/pickled_ioframe/ior-t4k/ior-t4k.cori.regular.strong.256.pkl\"),\n",
    "                    pd.read_pickle(\"/Users/henryxu/Desktop/Research/profiles/pickled_ioframe/ior-t4k/ior-t4k.cori.regular.strong.256.meta.pkl\")\n",
    "                )\n",
    "it4kcrs512 = IOFrame(pd.read_pickle(\"/Users/henryxu/Desktop/Research/profiles/pickled_ioframe/ior-t4k/ior-t4k.cori.regular.strong.512.pkl\"),\n",
    "                    pd.read_pickle(\"/Users/henryxu/Desktop/Research/profiles/pickled_ioframe/ior-t4k/ior-t4k.cori.regular.strong.512.meta.pkl\")\n",
    "                )\n",
    "it4kcrs1024 = IOFrame(pd.read_pickle(\"/Users/henryxu/Desktop/Research/profiles/pickled_ioframe/ior-t4k/ior-t4k.cori.regular.strong.1024.pkl\"),\n",
    "                    pd.read_pickle(\"/Users/henryxu/Desktop/Research/profiles/pickled_ioframe/ior-t4k/ior-t4k.cori.regular.strong.1024.meta.pkl\")\n",
    "                )\n"
   ]
  },
  {
   "cell_type": "markdown",
   "id": "3dc91d1a",
   "metadata": {},
   "source": [
    "#### read ior-t4k cori bb strong profiles"
   ]
  },
  {
   "cell_type": "code",
   "execution_count": null,
   "id": "6259950f",
   "metadata": {},
   "outputs": [],
   "source": [
    "it4kcbs64 = IOFrame(pd.read_pickle(\"/Users/henryxu/Desktop/Research/profiles/pickled_ioframe/ior-t4k/ior-t4k.cori.bb.strong.64.pkl\"),\n",
    "                    pd.read_pickle(\"/Users/henryxu/Desktop/Research/profiles/pickled_ioframe/ior-t4k/ior-t4k.cori.bb.strong.64.meta.pkl\")\n",
    "                )\n",
    "it4kcbs128 = IOFrame(pd.read_pickle(\"/Users/henryxu/Desktop/Research/profiles/pickled_ioframe/ior-t4k/ior-t4k.cori.bb.strong.128.pkl\"),\n",
    "                    pd.read_pickle(\"/Users/henryxu/Desktop/Research/profiles/pickled_ioframe/ior-t4k/ior-t4k.cori.bb.strong.128.meta.pkl\")\n",
    "                )\n",
    "it4kcbs256 = IOFrame(pd.read_pickle(\"/Users/henryxu/Desktop/Research/profiles/pickled_ioframe/ior-t4k/ior-t4k.cori.bb.strong.256.pkl\"),\n",
    "                    pd.read_pickle(\"/Users/henryxu/Desktop/Research/profiles/pickled_ioframe/ior-t4k/ior-t4k.cori.bb.strong.256.meta.pkl\")\n",
    "                )\n",
    "it4kcbs512 = IOFrame(pd.read_pickle(\"/Users/henryxu/Desktop/Research/profiles/pickled_ioframe/ior-t4k/ior-t4k.cori.bb.strong.512.pkl\"),\n",
    "                    pd.read_pickle(\"/Users/henryxu/Desktop/Research/profiles/pickled_ioframe/ior-t4k/ior-t4k.cori.bb.strong.512.meta.pkl\")\n",
    "                )\n",
    "it4kcbs1024 = IOFrame(pd.read_pickle(\"/Users/henryxu/Desktop/Research/profiles/pickled_ioframe/ior-t4k/ior-t4k.cori.bb.strong.1024.pkl\"),\n",
    "                    pd.read_pickle(\"/Users/henryxu/Desktop/Research/profiles/pickled_ioframe/ior-t4k/ior-t4k.cori.bb.strong.1024.meta.pkl\")\n",
    "                )\n"
   ]
  },
  {
   "cell_type": "markdown",
   "id": "60d26242",
   "metadata": {},
   "source": [
    "#### read ior-t4k cori regular weak profiles"
   ]
  },
  {
   "cell_type": "code",
   "execution_count": 2,
   "id": "23668436",
   "metadata": {},
   "outputs": [],
   "source": [
    "it4kcrw64 = IOFrame(pd.read_pickle(\"/Users/henryxu/Desktop/Research/profiles/pickled_ioframe/ior-t4k/ior-t4k.cori.regular.weak.64.pkl\"),\n",
    "                    pd.read_pickle(\"/Users/henryxu/Desktop/Research/profiles/pickled_ioframe/ior-t4k/ior-t4k.cori.regular.weak.64.meta.pkl\")\n",
    "                )\n",
    "it4kcrw128 = IOFrame(pd.read_pickle(\"/Users/henryxu/Desktop/Research/profiles/pickled_ioframe/ior-t4k/ior-t4k.cori.regular.weak.128.pkl\"),\n",
    "                    pd.read_pickle(\"/Users/henryxu/Desktop/Research/profiles/pickled_ioframe/ior-t4k/ior-t4k.cori.regular.weak.128.meta.pkl\")\n",
    "                )\n",
    "it4kcrw256 = IOFrame(pd.read_pickle(\"/Users/henryxu/Desktop/Research/profiles/pickled_ioframe/ior-t4k/ior-t4k.cori.regular.weak.256.pkl\"),\n",
    "                    pd.read_pickle(\"/Users/henryxu/Desktop/Research/profiles/pickled_ioframe/ior-t4k/ior-t4k.cori.regular.weak.256.meta.pkl\")\n",
    "                )\n",
    "it4kcrw512 = IOFrame(pd.read_pickle(\"/Users/henryxu/Desktop/Research/profiles/pickled_ioframe/ior-t4k/ior-t4k.cori.regular.weak.512.pkl\"),\n",
    "                    pd.read_pickle(\"/Users/henryxu/Desktop/Research/profiles/pickled_ioframe/ior-t4k/ior-t4k.cori.regular.weak.512.meta.pkl\")\n",
    "                )\n",
    "it4kcrw1024 = IOFrame(pd.read_pickle(\"/Users/henryxu/Desktop/Research/profiles/pickled_ioframe/ior-t4k/ior-t4k.cori.regular.weak.1024.pkl\"),\n",
    "                    pd.read_pickle(\"/Users/henryxu/Desktop/Research/profiles/pickled_ioframe/ior-t4k/ior-t4k.cori.regular.weak.1024.meta.pkl\")\n",
    "                )\n"
   ]
  },
  {
   "cell_type": "markdown",
   "id": "27708f49",
   "metadata": {},
   "source": [
    "#### read ior-t4k cori bb weak profiles"
   ]
  },
  {
   "cell_type": "code",
   "execution_count": 3,
   "id": "827df0a5",
   "metadata": {},
   "outputs": [],
   "source": [
    "it4kcbw64 = IOFrame(pd.read_pickle(\"/Users/henryxu/Desktop/Research/profiles/pickled_ioframe/ior-t4k/ior-t4k.cori.bb.weak.64.pkl\"),\n",
    "                    pd.read_pickle(\"/Users/henryxu/Desktop/Research/profiles/pickled_ioframe/ior-t4k/ior-t4k.cori.bb.weak.64.meta.pkl\")\n",
    "                )\n",
    "it4kcbw128 = IOFrame(pd.read_pickle(\"/Users/henryxu/Desktop/Research/profiles/pickled_ioframe/ior-t4k/ior-t4k.cori.bb.weak.128.pkl\"),\n",
    "                    pd.read_pickle(\"/Users/henryxu/Desktop/Research/profiles/pickled_ioframe/ior-t4k/ior-t4k.cori.bb.weak.128.meta.pkl\")\n",
    "                )\n",
    "it4kcbw256 = IOFrame(pd.read_pickle(\"/Users/henryxu/Desktop/Research/profiles/pickled_ioframe/ior-t4k/ior-t4k.cori.bb.weak.256.pkl\"),\n",
    "                    pd.read_pickle(\"/Users/henryxu/Desktop/Research/profiles/pickled_ioframe/ior-t4k/ior-t4k.cori.bb.weak.256.meta.pkl\")\n",
    "                )\n",
    "it4kcbw512 = IOFrame(pd.read_pickle(\"/Users/henryxu/Desktop/Research/profiles/pickled_ioframe/ior-t4k/ior-t4k.cori.bb.weak.512.pkl\"),\n",
    "                    pd.read_pickle(\"/Users/henryxu/Desktop/Research/profiles/pickled_ioframe/ior-t4k/ior-t4k.cori.bb.weak.512.meta.pkl\")\n",
    "                )\n",
    "it4kcbw1024 = IOFrame(pd.read_pickle(\"/Users/henryxu/Desktop/Research/profiles/pickled_ioframe/ior-t4k/ior-t4k.cori.bb.weak.1024.pkl\"),\n",
    "                    pd.read_pickle(\"/Users/henryxu/Desktop/Research/profiles/pickled_ioframe/ior-t4k/ior-t4k.cori.bb.weak.1024.meta.pkl\")\n",
    "                )\n"
   ]
  },
  {
   "cell_type": "code",
   "execution_count": null,
   "id": "c65c1609",
   "metadata": {},
   "outputs": [],
   "source": [
    "it4kcrs = [it4kcrs64, it4kcrs128, it4kcrs256, it4kcrs512, it4kcrs1024]\n",
    "it4kcbs = [it4kcbs64, it4kcbs128, it4kcbs256, it4kcbs512, it4kcbs1024]\n",
    "it4kcrw = [it4kcrw64, it4kcrw128, it4kcrw256, it4kcrw512, it4kcrw1024]\n",
    "it4kcbw = [it4kcbw64, it4kcbw128, it4kcbw256, it4kcbw512, it4kcbw1024]\n",
    "iort4k = {\n",
    "    \"iort4k-cori-strong\": [it4kcrs, it4kcbs],\n",
    "    \"iort4k-cori-weak\": [it4kcrw, it4kcbw]\n",
    "}\n"
   ]
  },
  {
   "cell_type": "markdown",
   "id": "15e0f64a",
   "metadata": {},
   "source": [
    "#### plot runtime"
   ]
  },
  {
   "cell_type": "code",
   "execution_count": null,
   "id": "765e6382",
   "metadata": {},
   "outputs": [],
   "source": [
    "for key, value in iort4k.items():\n",
    "    runtime_dict = {'num_proc': [64, 128, 256, 512, 1024], 'regular': [], 'bb': []}\n",
    "    # for ioframe in value[0]:\n",
    "    #     hls_runtime_dict['regular'].append(ioframe.dataframe['tend'].max() - ioframe.dataframe['tstart'].min())\n",
    "    # for ioframe in value[1]:\n",
    "    #     hls_runtime_dict['bb'].append(ioframe.dataframe['tend'].max() - ioframe.dataframe['tstart'].min())\n",
    "    for ioframe in value[0]:\n",
    "        runtime_dict['regular'].append(ioframe.metadata['end_timestamp'].max() - ioframe.metadata['start_timestamp'].min())\n",
    "    for ioframe in value[1]:\n",
    "        runtime_dict['bb'].append(ioframe.metadata['end_timestamp'].max() - ioframe.metadata['start_timestamp'].min())\n",
    "    runtime_dataframe = pd.DataFrame.from_dict(runtime_dict)\n",
    "\n",
    "    runtime_dataframe=pd.melt(runtime_dataframe, id_vars=['num_proc'], value_vars=['regular', 'bb'])\n",
    "    runtime_dataframe.rename(columns={\"variable\": \"file system\", \"value\": \"runtime\"}, inplace=True)\n",
    "\n",
    "    plt.figure()\n",
    "    sns.lineplot(x='num_proc', y='runtime', hue='file system', data=runtime_dataframe, style=\"file system\", markers=True, dashes=False)\n",
    "    plt.xlabel('num process')\n",
    "    plt.ylabel('runtime (s)')\n",
    "    plt.title(key + \"-runtime\")\n",
    "    plt.savefig('/Users/henryxu/Desktop/paper/papers-2021-prismio/jupyter-notebook/plots/iort4k/' + key + '-runtime.pdf')\n",
    "    "
   ]
  },
  {
   "cell_type": "markdown",
   "id": "a417f985",
   "metadata": {},
   "source": [
    "#### plot IO avg bandwidth"
   ]
  },
  {
   "cell_type": "code",
   "execution_count": null,
   "id": "acc89a7f",
   "metadata": {},
   "outputs": [],
   "source": [
    "for key, value in iort4k.items():\n",
    "    io_bandwidth_dict = {'num_proc': [64, 128, 256, 512, 1024], 'regular': [], 'bb': []}\n",
    "    for ioframe in value[0]:\n",
    "        io_bandwidth_dict['regular'].append(ioframe.total_io_bandwidth()['avg'])\n",
    "    for ioframe in value[1]:\n",
    "        io_bandwidth_dict['bb'].append(ioframe.total_io_bandwidth()['avg'])\n",
    "    io_bandwidth_dataframe = pd.DataFrame.from_dict(io_bandwidth_dict)\n",
    "\n",
    "    io_bandwidth_dataframe=pd.melt(io_bandwidth_dataframe, id_vars=['num_proc'], value_vars=['regular', 'bb'])\n",
    "    io_bandwidth_dataframe.rename(columns={\"variable\": \"file system\", \"value\": \"io_bandwidth\"}, inplace=True)\n",
    "    \n",
    "    plt.figure()\n",
    "    sns.lineplot(x='num_proc', y='io_bandwidth', hue='file system', data=io_bandwidth_dataframe, style=\"file system\", markers=True, dashes=False)\n",
    "    plt.xlabel('num process')\n",
    "    plt.ylabel('io_bandwidth (MB/s)')\n",
    "    plt.title(key + \"-io_bandwidth\")\n",
    "    plt.savefig('/Users/henryxu/Desktop/paper/papers-2021-prismio/jupyter-notebook/plots/iort4k/' + key + '-io_bandwidth-avg.pdf')\n",
    "    "
   ]
  },
  {
   "cell_type": "markdown",
   "id": "cae82030",
   "metadata": {},
   "source": [
    "#### plot IO bandwidth avg, min, max"
   ]
  },
  {
   "cell_type": "code",
   "execution_count": null,
   "id": "2119d465",
   "metadata": {},
   "outputs": [],
   "source": [
    "for key, value in iort4k.items():\n",
    "    io_bandwidth_dict = {\n",
    "        'num_proc': [64, 64, 64, 128, 128, 128, 256, 256, 256, 512, 512, 512, 1024, 1024, 1024], \n",
    "        'regular': [], \n",
    "        'bb': []\n",
    "    }\n",
    "    for ioframe in value[0]:\n",
    "        io_bandwidth_dict['regular'].append(ioframe.total_io_bandwidth()['avg'])\n",
    "        io_bandwidth_dict['regular'].append(ioframe.total_io_bandwidth()['min'])\n",
    "        io_bandwidth_dict['regular'].append(ioframe.total_io_bandwidth()['max'])\n",
    "    for ioframe in value[1]:\n",
    "        io_bandwidth_dict['bb'].append(ioframe.total_io_bandwidth()['avg'])\n",
    "        io_bandwidth_dict['bb'].append(ioframe.total_io_bandwidth()['min'])\n",
    "        io_bandwidth_dict['bb'].append(ioframe.total_io_bandwidth()['max'])\n",
    "    io_bandwidth_dataframe = pd.DataFrame.from_dict(io_bandwidth_dict)\n",
    "\n",
    "    io_bandwidth_dataframe=pd.melt(io_bandwidth_dataframe, id_vars=['num_proc'], value_vars=['regular', 'bb'])\n",
    "    io_bandwidth_dataframe.rename(columns={\"variable\": \"file system\", \"value\": \"io_bandwidth\"}, inplace=True)\n",
    "    \n",
    "    plt.figure()\n",
    "    sns.lineplot(x='num_proc', y='io_bandwidth', hue='file system', data=io_bandwidth_dataframe, ci=100, style=\"file system\", markers=True, dashes=False)\n",
    "    plt.xlabel('num process')\n",
    "    plt.ylabel('io_bandwidth (MB/s)')\n",
    "    plt.title(key + \"-io_bandwidth\")\n",
    "    plt.savefig('/Users/henryxu/Desktop/paper/papers-2021-prismio/jupyter-notebook/plots/iort4k/' + key + '-io_bandwidth-tsplot.pdf')\n",
    "    \n",
    "    plt.figure()\n",
    "    sns.pointplot(x='num_proc', y='io_bandwidth', hue='file system', data=io_bandwidth_dataframe, ci=100, capsize=.15, errwidth=2.5, style=\"file system\", dodge=0.15)\n",
    "    plt.xlabel('num process')\n",
    "    plt.ylabel('io_bandwidth (MB/s)')\n",
    "    plt.title(key + \"-io_bandwidth\")\n",
    "    plt.savefig('/Users/henryxu/Desktop/paper/papers-2021-prismio/jupyter-notebook/plots/iort4k/' + key + '-io_bandwidth-errbar.pdf')\n"
   ]
  },
  {
   "cell_type": "markdown",
   "id": "00f1f93e",
   "metadata": {},
   "source": [
    "#### plot IO time avg, min, max"
   ]
  },
  {
   "cell_type": "code",
   "execution_count": null,
   "id": "f918b748",
   "metadata": {},
   "outputs": [],
   "source": [
    "for key, value in iort4k.items():\n",
    "    io_time_dict = {\n",
    "        'num_proc': [64, 64, 64, 128, 128, 128, 256, 256, 256, 512, 512, 512, 1024, 1024, 1024], \n",
    "        'regular': [], \n",
    "        'bb': []\n",
    "    }\n",
    "    for ioframe in value[0]:\n",
    "        io_time = ioframe.io_time(agg_function=np.sum, rank_major=True)\n",
    "        io_time_dict['regular'].append(io_time[\"time_'write,read,meta'\"].mean())\n",
    "        io_time_dict['regular'].append(io_time[\"time_'write,read,meta'\"].min())\n",
    "        io_time_dict['regular'].append(io_time[\"time_'write,read,meta'\"].max())\n",
    "    for ioframe in value[1]:\n",
    "        io_time = ioframe.io_time(agg_function=np.sum, rank_major=True)\n",
    "        io_time_dict['bb'].append(io_time[\"time_'write,read,meta'\"].mean())\n",
    "        io_time_dict['bb'].append(io_time[\"time_'write,read,meta'\"].min())\n",
    "        io_time_dict['bb'].append(io_time[\"time_'write,read,meta'\"].max())\n",
    "    io_time_dataframe = pd.DataFrame.from_dict(io_time_dict)\n",
    "\n",
    "    io_time_dataframe=pd.melt(io_time_dataframe, id_vars=['num_proc'], value_vars=['regular', 'bb'])\n",
    "    io_time_dataframe.rename(columns={\"variable\": \"file system\", \"value\": \"io_time\"}, inplace=True)\n",
    "    \n",
    "    plt.figure()\n",
    "    sns.lineplot(x='num_proc', y='io_time', hue='file system', data=io_time_dataframe, ci=100, style=\"file system\", markers=True, dashes=False)\n",
    "    plt.xlabel('num process')\n",
    "    plt.ylabel('io_time (s)')\n",
    "    plt.title(key + \"-io_time\")\n",
    "    plt.savefig('/Users/henryxu/Desktop/paper/papers-2021-prismio/jupyter-notebook/plots/iort4k/' + key + '-io_time-tsplot.pdf')\n",
    "    \n",
    "    plt.figure()\n",
    "    sns.pointplot(x='num_proc', y='io_time', hue='file system', data=io_time_dataframe, ci=100, capsize=.15, errwidth=2.5, style=\"file system\", dodge=0.15)\n",
    "    plt.xlabel('num process')\n",
    "    plt.ylabel('io_time (s)')\n",
    "    plt.title(key + \"-io_time\")\n",
    "    plt.savefig('/Users/henryxu/Desktop/paper/papers-2021-prismio/jupyter-notebook/plots/iort4k/' + key + '-io_time-errbar.pdf')\n"
   ]
  },
  {
   "cell_type": "code",
   "execution_count": 4,
   "id": "bc7e3955",
   "metadata": {},
   "outputs": [],
   "source": [
    "it4kcrw = [it4kcrw64, it4kcrw128, it4kcrw256, it4kcrw512, it4kcrw1024]\n",
    "it4kcbw = [it4kcbw64, it4kcbw128, it4kcbw256, it4kcbw512, it4kcbw1024]\n",
    "\n",
    "dic = {\n",
    "    'app': [],\n",
    "    'transfer_size': [],\n",
    "    'io_subsystem': [],\n",
    "    'scaling': [],\n",
    "    'num_proc': [],\n",
    "    'io_bandwidth': [],\n",
    "    'io_time': [],\n",
    "    'transfer_time': [],\n",
    "}\n",
    "\n",
    "for io_subsystem, ioframe_io_subsystem in zip(['cori lustre', 'cori default bb'], [it4kcrw, it4kcbw]):\n",
    "    for num_proc, ioframe in zip([64, 128, 256, 512, 1024], ioframe_io_subsystem):\n",
    "        dic['app'].append('ior-t4k')\n",
    "        dic['transfer_size'].append('4k')\n",
    "        dic['io_subsystem'].append(io_subsystem)\n",
    "        dic['scaling'].append('weak-scaling')\n",
    "        dic['num_proc'].append(num_proc)\n",
    "        \n",
    "        io_time = ioframe.io_time(io_type='write,read,meta', agg_function=np.sum, rank_major=True) # agg_column \n",
    "        io_time = io_time[\"time_'write,read,meta'\"].mean()\n",
    "        \n",
    "        transfer_time = ioframe.io_time(io_type='write,read', agg_function=np.sum, rank_major=True) # agg_column \n",
    "        transfer_time = transfer_time[\"time_'write,read'\"].mean()\n",
    "        \n",
    "        \n",
    "        dic['io_time'].append(io_time)\n",
    "        dic['transfer_time'].append(transfer_time)\n",
    "        \n",
    "        dataframe = ioframe.dataframe[(ioframe.dataframe['io_volume'] > 4000) & (ioframe.dataframe['time'] > 0)].copy()\n",
    "        dataframe['io_bandwidth'] = dataframe['io_volume'] / dataframe['time']\n",
    "        io_bandwidth = float(dataframe['io_bandwidth'].mean())\n",
    "        dic['io_bandwidth'].append(io_bandwidth)\n",
    "\n",
    "df = pd.DataFrame.from_dict(dic)\n",
    "df.to_csv('/Users/henryxu/Desktop/paper/papers-2021-prismio/data/iort4k-cori-io-info.csv', index=False)\n",
    "            "
   ]
  },
  {
   "cell_type": "code",
   "execution_count": null,
   "id": "c98fbabb",
   "metadata": {},
   "outputs": [],
   "source": []
  }
 ],
 "metadata": {
  "kernelspec": {
   "display_name": "Python 3 (ipykernel)",
   "language": "python",
   "name": "python3"
  },
  "language_info": {
   "codemirror_mode": {
    "name": "ipython",
    "version": 3
   },
   "file_extension": ".py",
   "mimetype": "text/x-python",
   "name": "python",
   "nbconvert_exporter": "python",
   "pygments_lexer": "ipython3",
   "version": "3.9.7"
  }
 },
 "nbformat": 4,
 "nbformat_minor": 5
}
