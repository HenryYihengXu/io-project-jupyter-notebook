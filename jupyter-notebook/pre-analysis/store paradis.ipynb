{
 "cells": [
  {
   "cell_type": "code",
   "execution_count": null,
   "id": "d02d48fe",
   "metadata": {},
   "outputs": [],
   "source": [
    "import importlib\n",
    "import sys\n",
    "import os\n",
    "import matplotlib as mpl\n",
    "import matplotlib.pyplot as plt\n",
    "import numpy as np\n",
    "import pandas as pd\n",
    "sys.path.insert(1, os.path.join(sys.path[0], '/Users/henryxu/Desktop/Research/prismio'))\n",
    "from prismio.io_frame import IOFrame\n",
    "import prismio.io_frame\n",
    "from prismio.io_frame_plotter import IOFramePlotter\n",
    "import seaborn as sns\n",
    "importlib.reload(prismio.io_frame)\n",
    "import pickle"
   ]
  },
  {
   "cell_type": "code",
   "execution_count": null,
   "id": "3b03b5ba",
   "metadata": {},
   "outputs": [],
   "source": [
    "plrw64 = IOFrame.from_recorder(\"/Users/henryxu/Desktop/Research/profiles/lassen/paradis/recorder-logs/paradis.regular.weak-scaling.64.16.16.16.1.1.1.1.1.recorder-log\")\n",
    "plrw128 = IOFrame.from_recorder(\"/Users/henryxu/Desktop/Research/profiles/lassen/paradis/recorder-logs/paradis.regular.weak-scaling.128.16.16.16.1.1.1.1.1.recorder-log\")\n",
    "plrw256 = IOFrame.from_recorder(\"/Users/henryxu/Desktop/Research/profiles/lassen/paradis/recorder-logs/paradis.regular.weak-scaling.256.16.16.16.1.1.1.1.1.recorder-log\")\n",
    "plrw512 = IOFrame.from_recorder(\"/Users/henryxu/Desktop/Research/profiles/lassen/paradis/recorder-logs/paradis.regular.weak-scaling.512.16.16.16.1.1.1.1.1.recorder-log\")\n",
    "plrw1024 = IOFrame.from_recorder(\"/Users/henryxu/Desktop/Research/profiles/lassen/paradis/recorder-logs/paradis.regular.weak-scaling.1024.16.16.16.1.1.1.1.1.recorder-log\")\n"
   ]
  },
  {
   "cell_type": "code",
   "execution_count": null,
   "id": "cd0d5812",
   "metadata": {},
   "outputs": [],
   "source": [
    "plrw64.dataframe.to_pickle('/Users/henryxu/Desktop/Research/profiles/pickled_ioframe/paradis/paradis.lassen.regular.weak.64.pkl')\n",
    "plrw128.dataframe.to_pickle('/Users/henryxu/Desktop/Research/profiles/pickled_ioframe/paradis/paradis.lassen.regular.weak.128.pkl')\n",
    "plrw256.dataframe.to_pickle('/Users/henryxu/Desktop/Research/profiles/pickled_ioframe/paradis/paradis.lassen.regular.weak.256.pkl')\n",
    "plrw512.dataframe.to_pickle('/Users/henryxu/Desktop/Research/profiles/pickled_ioframe/paradis/paradis.lassen.regular.weak.512.pkl')\n",
    "plrw1024.dataframe.to_pickle('/Users/henryxu/Desktop/Research/profiles/pickled_ioframe/paradis/paradis.lassen.regular.weak.1024.pkl')\n",
    "plrw64.metadata.to_pickle('/Users/henryxu/Desktop/Research/profiles/pickled_ioframe/paradis/paradis.lassen.regular.weak.64.meta.pkl')\n",
    "plrw128.metadata.to_pickle('/Users/henryxu/Desktop/Research/profiles/pickled_ioframe/paradis/paradis.lassen.regular.weak.128.meta.pkl')\n",
    "plrw256.metadata.to_pickle('/Users/henryxu/Desktop/Research/profiles/pickled_ioframe/paradis/paradis.lassen.regular.weak.256.meta.pkl')\n",
    "plrw512.metadata.to_pickle('/Users/henryxu/Desktop/Research/profiles/pickled_ioframe/paradis/paradis.lassen.regular.weak.512.meta.pkl')\n",
    "plrw1024.metadata.to_pickle('/Users/henryxu/Desktop/Research/profiles/pickled_ioframe/paradis/paradis.lassen.regular.weak.1024.meta.pkl')\n"
   ]
  },
  {
   "cell_type": "code",
   "execution_count": null,
   "id": "ae26f7cf",
   "metadata": {},
   "outputs": [],
   "source": [
    "plbw64 = IOFrame.from_recorder(\"/Users/henryxu/Desktop/Research/profiles/lassen/paradis/recorder-logs/paradis.bb.weak-scaling.64.16.16.16.1.1.1.1.1.recorder-log\")\n",
    "plbw128 = IOFrame.from_recorder(\"/Users/henryxu/Desktop/Research/profiles/lassen/paradis/recorder-logs/paradis.bb.weak-scaling.128.16.16.16.1.1.1.1.1.recorder-log\")\n",
    "plbw256 = IOFrame.from_recorder(\"/Users/henryxu/Desktop/Research/profiles/lassen/paradis/recorder-logs/paradis.bb.weak-scaling.256.16.16.16.1.1.1.1.1.recorder-log\")\n",
    "plbw512 = IOFrame.from_recorder(\"/Users/henryxu/Desktop/Research/profiles/lassen/paradis/recorder-logs/paradis.bb.weak-scaling.512.16.16.16.1.1.1.1.1.recorder-log\")\n",
    "plbw1024 = IOFrame.from_recorder(\"/Users/henryxu/Desktop/Research/profiles/lassen/paradis/recorder-logs/paradis.bb.weak-scaling.1024.16.16.16.1.1.1.1.1.recorder-log\")\n"
   ]
  },
  {
   "cell_type": "code",
   "execution_count": null,
   "id": "589f1a36",
   "metadata": {},
   "outputs": [],
   "source": [
    "plbw64.dataframe.to_pickle('/Users/henryxu/Desktop/Research/profiles/pickled_ioframe/paradis/paradis.lassen.bb.weak.64.pkl')\n",
    "plbw128.dataframe.to_pickle('/Users/henryxu/Desktop/Research/profiles/pickled_ioframe/paradis/paradis.lassen.bb.weak.128.pkl')\n",
    "plbw256.dataframe.to_pickle('/Users/henryxu/Desktop/Research/profiles/pickled_ioframe/paradis/paradis.lassen.bb.weak.256.pkl')\n",
    "plbw512.dataframe.to_pickle('/Users/henryxu/Desktop/Research/profiles/pickled_ioframe/paradis/paradis.lassen.bb.weak.512.pkl')\n",
    "plbw1024.dataframe.to_pickle('/Users/henryxu/Desktop/Research/profiles/pickled_ioframe/paradis/paradis.lassen.bb.weak.1024.pkl')\n",
    "plbw64.metadata.to_pickle('/Users/henryxu/Desktop/Research/profiles/pickled_ioframe/paradis/paradis.lassen.bb.weak.64.meta.pkl')\n",
    "plbw128.metadata.to_pickle('/Users/henryxu/Desktop/Research/profiles/pickled_ioframe/paradis/paradis.lassen.bb.weak.128.meta.pkl')\n",
    "plbw256.metadata.to_pickle('/Users/henryxu/Desktop/Research/profiles/pickled_ioframe/paradis/paradis.lassen.bb.weak.256.meta.pkl')\n",
    "plbw512.metadata.to_pickle('/Users/henryxu/Desktop/Research/profiles/pickled_ioframe/paradis/paradis.lassen.bb.weak.512.meta.pkl')\n",
    "plbw1024.metadata.to_pickle('/Users/henryxu/Desktop/Research/profiles/pickled_ioframe/paradis/paradis.lassen.bb.weak.1024.meta.pkl')\n"
   ]
  },
  {
   "cell_type": "code",
   "execution_count": null,
   "id": "7bf56119",
   "metadata": {},
   "outputs": [],
   "source": [
    "psrw64 = IOFrame.from_recorder(\"/Users/henryxu/Desktop/Research/profiles/summit/paradis/recorder-logs/paradis.regular.weak-scaling.64.16.16.16.1.1.1.1.1.recorder-log\")\n",
    "psrw128 = IOFrame.from_recorder(\"/Users/henryxu/Desktop/Research/profiles/summit/paradis/recorder-logs/paradis.regular.weak-scaling.128.16.16.16.1.1.1.1.1.recorder-log\")\n",
    "psrw256 = IOFrame.from_recorder(\"/Users/henryxu/Desktop/Research/profiles/summit/paradis/recorder-logs/paradis.regular.weak-scaling.256.16.16.16.1.1.1.1.1.recorder-log\")\n",
    "psrw512 = IOFrame.from_recorder(\"/Users/henryxu/Desktop/Research/profiles/summit/paradis/recorder-logs/paradis.regular.weak-scaling.512.16.16.16.1.1.1.1.1.recorder-log\")\n",
    "psrw1024 = IOFrame.from_recorder(\"/Users/henryxu/Desktop/Research/profiles/summit/paradis/recorder-logs/paradis.regular.weak-scaling.1024.16.16.16.1.1.1.1.1.recorder-log\")"
   ]
  },
  {
   "cell_type": "code",
   "execution_count": null,
   "id": "177c9c91",
   "metadata": {},
   "outputs": [],
   "source": [
    "psrw64.dataframe.to_pickle('/Users/henryxu/Desktop/Research/profiles/pickled_ioframe/paradis/paradis.summit.regular.weak.64.pkl')\n",
    "psrw128.dataframe.to_pickle('/Users/henryxu/Desktop/Research/profiles/pickled_ioframe/paradis/paradis.summit.regular.weak.128.pkl')\n",
    "psrw256.dataframe.to_pickle('/Users/henryxu/Desktop/Research/profiles/pickled_ioframe/paradis/paradis.summit.regular.weak.256.pkl')\n",
    "psrw512.dataframe.to_pickle('/Users/henryxu/Desktop/Research/profiles/pickled_ioframe/paradis/paradis.summit.regular.weak.512.pkl')\n",
    "psrw1024.dataframe.to_pickle('/Users/henryxu/Desktop/Research/profiles/pickled_ioframe/paradis/paradis.summit.regular.weak.1024.pkl')\n",
    "psrw64.metadata.to_pickle('/Users/henryxu/Desktop/Research/profiles/pickled_ioframe/paradis/paradis.summit.regular.weak.64.meta.pkl')\n",
    "psrw128.metadata.to_pickle('/Users/henryxu/Desktop/Research/profiles/pickled_ioframe/paradis/paradis.summit.regular.weak.128.meta.pkl')\n",
    "psrw256.metadata.to_pickle('/Users/henryxu/Desktop/Research/profiles/pickled_ioframe/paradis/paradis.summit.regular.weak.256.meta.pkl')\n",
    "psrw512.metadata.to_pickle('/Users/henryxu/Desktop/Research/profiles/pickled_ioframe/paradis/paradis.summit.regular.weak.512.meta.pkl')\n",
    "psrw1024.metadata.to_pickle('/Users/henryxu/Desktop/Research/profiles/pickled_ioframe/paradis/paradis.summit.regular.weak.1024.meta.pkl')\n"
   ]
  },
  {
   "cell_type": "code",
   "execution_count": null,
   "id": "ebd28440",
   "metadata": {},
   "outputs": [],
   "source": [
    "psbw64 = IOFrame.from_recorder(\"/Users/henryxu/Desktop/Research/profiles/summit/paradis/recorder-logs/paradis.bb.weak-scaling.64.16.16.16.1.1.1.1.1.recorder-log\")\n",
    "psbw128 = IOFrame.from_recorder(\"/Users/henryxu/Desktop/Research/profiles/summit/paradis/recorder-logs/paradis.bb.weak-scaling.128.16.16.16.1.1.1.1.1.recorder-log\")\n",
    "psbw256 = IOFrame.from_recorder(\"/Users/henryxu/Desktop/Research/profiles/summit/paradis/recorder-logs/paradis.bb.weak-scaling.256.16.16.16.1.1.1.1.1.recorder-log\")\n",
    "psbw512 = IOFrame.from_recorder(\"/Users/henryxu/Desktop/Research/profiles/summit/paradis/recorder-logs/paradis.bb.weak-scaling.512.16.16.16.1.1.1.1.1.recorder-log\")\n",
    "psbw1024 = IOFrame.from_recorder(\"/Users/henryxu/Desktop/Research/profiles/summit/paradis/recorder-logs/paradis.bb.weak-scaling.1024.16.16.16.1.1.1.1.1.recorder-log\")\n"
   ]
  },
  {
   "cell_type": "code",
   "execution_count": null,
   "id": "9200adbc",
   "metadata": {},
   "outputs": [],
   "source": [
    "psbw64.dataframe.to_pickle('/Users/henryxu/Desktop/Research/profiles/pickled_ioframe/paradis/paradis.summit.bb.weak.64.pkl')\n",
    "psbw128.dataframe.to_pickle('/Users/henryxu/Desktop/Research/profiles/pickled_ioframe/paradis/paradis.summit.bb.weak.128.pkl')\n",
    "psbw256.dataframe.to_pickle('/Users/henryxu/Desktop/Research/profiles/pickled_ioframe/paradis/paradis.summit.bb.weak.256.pkl')\n",
    "psbw512.dataframe.to_pickle('/Users/henryxu/Desktop/Research/profiles/pickled_ioframe/paradis/paradis.summit.bb.weak.512.pkl')\n",
    "psbw1024.dataframe.to_pickle('/Users/henryxu/Desktop/Research/profiles/pickled_ioframe/paradis/paradis.summit.bb.weak.1024.pkl')\n",
    "psbw64.metadata.to_pickle('/Users/henryxu/Desktop/Research/profiles/pickled_ioframe/paradis/paradis.summit.bb.weak.64.meta.pkl')\n",
    "psbw128.metadata.to_pickle('/Users/henryxu/Desktop/Research/profiles/pickled_ioframe/paradis/paradis.summit.bb.weak.128.meta.pkl')\n",
    "psbw256.metadata.to_pickle('/Users/henryxu/Desktop/Research/profiles/pickled_ioframe/paradis/paradis.summit.bb.weak.256.meta.pkl')\n",
    "psbw512.metadata.to_pickle('/Users/henryxu/Desktop/Research/profiles/pickled_ioframe/paradis/paradis.summit.bb.weak.512.meta.pkl')\n",
    "psbw1024.metadata.to_pickle('/Users/henryxu/Desktop/Research/profiles/pickled_ioframe/paradis/paradis.summit.bb.weak.1024.meta.pkl')\n"
   ]
  },
  {
   "cell_type": "code",
   "execution_count": null,
   "id": "5277fb69",
   "metadata": {},
   "outputs": [],
   "source": [
    "pcrw64 = IOFrame.from_recorder(\"/Users/henryxu/Desktop/Research/profiles/cori/paradis/recorder-logs/paradis.regular.weak-scaling.64.16.16.16.1.1.1.1.1.recorder-log\")\n",
    "pcrw128 = IOFrame.from_recorder(\"/Users/henryxu/Desktop/Research/profiles/cori/paradis/recorder-logs/paradis.regular.weak-scaling.128.16.16.16.1.1.1.1.1.recorder-log\")\n",
    "pcrw256 = IOFrame.from_recorder(\"/Users/henryxu/Desktop/Research/profiles/cori/paradis/recorder-logs/paradis.regular.weak-scaling.256.16.16.16.1.1.1.1.1.recorder-log\")\n",
    "pcrw512 = IOFrame.from_recorder(\"/Users/henryxu/Desktop/Research/profiles/cori/paradis/recorder-logs/paradis.regular.weak-scaling.512.16.16.16.1.1.1.1.1.recorder-log\")\n",
    "pcrw1024 = IOFrame.from_recorder(\"/Users/henryxu/Desktop/Research/profiles/cori/paradis/recorder-logs/paradis.regular.weak-scaling.1024.16.16.16.1.1.1.1.1.recorder-log\")\n"
   ]
  },
  {
   "cell_type": "code",
   "execution_count": null,
   "id": "469a8e59",
   "metadata": {},
   "outputs": [],
   "source": [
    "pcrw64.dataframe.to_pickle('/Users/henryxu/Desktop/Research/profiles/pickled_ioframe/paradis/paradis.cori.regular.weak.64.pkl')\n",
    "pcrw128.dataframe.to_pickle('/Users/henryxu/Desktop/Research/profiles/pickled_ioframe/paradis/paradis.cori.regular.weak.128.pkl')\n",
    "pcrw256.dataframe.to_pickle('/Users/henryxu/Desktop/Research/profiles/pickled_ioframe/paradis/paradis.cori.regular.weak.256.pkl')\n",
    "pcrw512.dataframe.to_pickle('/Users/henryxu/Desktop/Research/profiles/pickled_ioframe/paradis/paradis.cori.regular.weak.512.pkl')\n",
    "pcrw1024.dataframe.to_pickle('/Users/henryxu/Desktop/Research/profiles/pickled_ioframe/paradis/paradis.cori.regular.weak.1024.pkl')\n",
    "pcrw64.metadata.to_pickle('/Users/henryxu/Desktop/Research/profiles/pickled_ioframe/paradis/paradis.cori.regular.weak.64.meta.pkl')\n",
    "pcrw128.metadata.to_pickle('/Users/henryxu/Desktop/Research/profiles/pickled_ioframe/paradis/paradis.cori.regular.weak.128.meta.pkl')\n",
    "pcrw256.metadata.to_pickle('/Users/henryxu/Desktop/Research/profiles/pickled_ioframe/paradis/paradis.cori.regular.weak.256.meta.pkl')\n",
    "pcrw512.metadata.to_pickle('/Users/henryxu/Desktop/Research/profiles/pickled_ioframe/paradis/paradis.cori.regular.weak.512.meta.pkl')\n",
    "pcrw1024.metadata.to_pickle('/Users/henryxu/Desktop/Research/profiles/pickled_ioframe/paradis/paradis.cori.regular.weak.1024.meta.pkl')\n"
   ]
  },
  {
   "cell_type": "code",
   "execution_count": null,
   "id": "b0bdc2b7",
   "metadata": {},
   "outputs": [],
   "source": [
    "pcbw64 = IOFrame.from_recorder(\"/Users/henryxu/Desktop/Research/profiles/cori/paradis/recorder-logs/paradis.bb.weak-scaling.64.16.16.16.1.1.1.1.1.recorder-log\")\n",
    "pcbw128 = IOFrame.from_recorder(\"/Users/henryxu/Desktop/Research/profiles/cori/paradis/recorder-logs/paradis.bb.weak-scaling.128.16.16.16.1.1.1.1.1.recorder-log\")\n",
    "pcbw256 = IOFrame.from_recorder(\"/Users/henryxu/Desktop/Research/profiles/cori/paradis/recorder-logs/paradis.bb.weak-scaling.256.16.16.16.1.1.1.1.1.recorder-log\")\n",
    "pcbw512 = IOFrame.from_recorder(\"/Users/henryxu/Desktop/Research/profiles/cori/paradis/recorder-logs/paradis.bb.weak-scaling.512.16.16.16.1.1.1.1.1.recorder-log\")\n",
    "pcbw1024 = IOFrame.from_recorder(\"/Users/henryxu/Desktop/Research/profiles/cori/paradis/recorder-logs/paradis.bb.weak-scaling.1024.16.16.16.1.1.1.1.1.recorder-log\")\n"
   ]
  },
  {
   "cell_type": "code",
   "execution_count": null,
   "id": "e4979c43",
   "metadata": {},
   "outputs": [],
   "source": [
    "pcbw64.dataframe.to_pickle('/Users/henryxu/Desktop/Research/profiles/pickled_ioframe/paradis/paradis.cori.bb.weak.64.pkl')\n",
    "pcbw128.dataframe.to_pickle('/Users/henryxu/Desktop/Research/profiles/pickled_ioframe/paradis/paradis.cori.bb.weak.128.pkl')\n",
    "pcbw256.dataframe.to_pickle('/Users/henryxu/Desktop/Research/profiles/pickled_ioframe/paradis/paradis.cori.bb.weak.256.pkl')\n",
    "pcbw512.dataframe.to_pickle('/Users/henryxu/Desktop/Research/profiles/pickled_ioframe/paradis/paradis.cori.bb.weak.512.pkl')\n",
    "pcbw1024.dataframe.to_pickle('/Users/henryxu/Desktop/Research/profiles/pickled_ioframe/paradis/paradis.cori.bb.weak.1024.pkl')\n",
    "pcbw64.metadata.to_pickle('/Users/henryxu/Desktop/Research/profiles/pickled_ioframe/paradis/paradis.cori.bb.weak.64.meta.pkl')\n",
    "pcbw128.metadata.to_pickle('/Users/henryxu/Desktop/Research/profiles/pickled_ioframe/paradis/paradis.cori.bb.weak.128.meta.pkl')\n",
    "pcbw256.metadata.to_pickle('/Users/henryxu/Desktop/Research/profiles/pickled_ioframe/paradis/paradis.cori.bb.weak.256.meta.pkl')\n",
    "pcbw512.metadata.to_pickle('/Users/henryxu/Desktop/Research/profiles/pickled_ioframe/paradis/paradis.cori.bb.weak.512.meta.pkl')\n",
    "pcbw1024.metadata.to_pickle('/Users/henryxu/Desktop/Research/profiles/pickled_ioframe/paradis/paradis.cori.bb.weak.1024.meta.pkl')\n"
   ]
  },
  {
   "cell_type": "code",
   "execution_count": null,
   "id": "086a19c1",
   "metadata": {},
   "outputs": [],
   "source": []
  }
 ],
 "metadata": {
  "kernelspec": {
   "display_name": "Python 3",
   "language": "python",
   "name": "python3"
  },
  "language_info": {
   "codemirror_mode": {
    "name": "ipython",
    "version": 3
   },
   "file_extension": ".py",
   "mimetype": "text/x-python",
   "name": "python",
   "nbconvert_exporter": "python",
   "pygments_lexer": "ipython3",
   "version": "3.9.1"
  }
 },
 "nbformat": 4,
 "nbformat_minor": 5
}
