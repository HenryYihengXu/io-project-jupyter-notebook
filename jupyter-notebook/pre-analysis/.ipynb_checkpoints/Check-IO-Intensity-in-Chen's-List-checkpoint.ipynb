{
 "cells": [
  {
   "cell_type": "code",
   "execution_count": 2,
   "id": "3869b175",
   "metadata": {},
   "outputs": [
    {
     "name": "stdout",
     "output_type": "stream",
     "text": [
      "The Zen of Python, by Tim Peters\n",
      "\n",
      "Beautiful is better than ugly.\n",
      "Explicit is better than implicit.\n",
      "Simple is better than complex.\n",
      "Complex is better than complicated.\n",
      "Flat is better than nested.\n",
      "Sparse is better than dense.\n",
      "Readability counts.\n",
      "Special cases aren't special enough to break the rules.\n",
      "Although practicality beats purity.\n",
      "Errors should never pass silently.\n",
      "Unless explicitly silenced.\n",
      "In the face of ambiguity, refuse the temptation to guess.\n",
      "There should be one-- and preferably only one --obvious way to do it.\n",
      "Although that way may not be obvious at first unless you're Dutch.\n",
      "Now is better than never.\n",
      "Although never is often better than *right* now.\n",
      "If the implementation is hard to explain, it's a bad idea.\n",
      "If the implementation is easy to explain, it may be a good idea.\n",
      "Namespaces are one honking great idea -- let's do more of those!\n"
     ]
    }
   ],
   "source": [
    "import sys\n",
    "import os\n",
    "import numpy as np\n",
    "import pandas as pd\n",
    "sys.path.insert(1, os.path.join(sys.path[0], '/Users/henryxu/Desktop/Research/prismio'))\n",
    "from prismio.io_frame import IOFrame\n",
    "import glob\n"
   ]
  },
  {
   "cell_type": "code",
   "execution_count": 3,
   "id": "2bb89727",
   "metadata": {
    "scrolled": false
   },
   "outputs": [
    {
     "name": "stdout",
     "output_type": "stream",
     "text": [
      "App: LBANN-1.0.0-Autoencoder_cifar10_POSIX\n",
      "App: qmcpack-3.9.2-simple_h2o_HDF5\n",
      "App: LAMMPS-20Mar3-LJ_2D_Adios\n",
      "App: LAMMPS-20Mar3-LJ_2D_NetCDF\n",
      "App: LAMMPS-20Mar3-LJ_2D_HDF5\n",
      "App: LAMMPS-20Mar3-LJ_2D_POSIX\n",
      "App: LAMMPS-20Mar3-LJ_2D_MPIIO\n",
      "App: enzo-dev-20200723-CollapseTestNonCosmological_HDF5\n",
      "App: MACSio 2-Ale3d_silo\n",
      "App: FLASH4.4-Sedov_2d_ug_fbs\n",
      "App: FLASH4.4-Sedov_2d_ug_nofbs\n",
      "App: Nek5000-v19.0-rc1-eddy_uv_POSIX\n",
      "App: GAMESS-0.92-dft_etoh_POSIX\n",
      "App: NWChem-6.8.1-h2o_scf_posix_traces\n",
      "App: NWChem-6.8.1-README.txt\n",
      "App: Chombo-3.2.7-VCPoissonSolve3d_HDF5\n",
      "App: GTCv0.92-gtc_64p_POSIX\n",
      "App: VASP-5.4.4-GaAs_POSIX_traces\n",
      "App: VASP-5.4.4-README.txt\n",
      "App: ParaDis.v2.5.1.1 2-Copper_HDF5\n",
      "App: ParaDis.v2.5.1.1 2-Copper_POSIX\n"
     ]
    }
   ],
   "source": [
    "directories = glob.glob(\"/Users/henryxu/Desktop/Research/chens-list/*\")\n",
    "for directory in directories:\n",
    "    app = directory.split('/')[-1]\n",
    "    recorderLogs = glob.glob(directory + \"/*\")\n",
    "    for recorderLog in recorderLogs:\n",
    "        appConfig = recorderLog.split('/')[-1]\n",
    "        if appConfig.contains(\".txt\"):\n",
    "            continue\n",
    "        ioFrame = IOFrame.from_recorder(recorderLog)\n",
    "        print(\"finish processing\")\n",
    "        print()\n",
    "        ioIntensity = ioFrame.time_distribution(ratio=True)\n",
    "        print(\"App: \" + app + \"-\" + appConfig)\n",
    "        print(\"I/O Intensity: \")\n",
    "        print(ioIntensity)\n",
    "        print(\"Mean I/O Intensity over ranks: \")\n",
    "        print(ioIntensity.mean())\n",
    "        print(\"==================================\")\n",
    "        print()\n",
    "        with open(\"/Users/henryxu/Desktop/io-project/jupyter-notebook/pre-analysis/cehn's-list-io-intensity.txt\", 'a') as f:\n",
    "            f.write(\"App: \" + app + \"-\" + appConfig + \"\\n\")\n",
    "            f.write(\"I/O Intensity: \\n\")\n",
    "            f.write(ioIntensity.to_string())\n",
    "            f.write(\"\\n\")\n",
    "            f.write(\"Mean I/O Intensity over ranks: \\n\")\n",
    "            f.write(ioIntensity.mean().to_string())\n",
    "            f.write(\"\\n\")\n",
    "            f.write(\"==================================\\n\")\n",
    "            f.write(\"\\n\")\n",
    "            f.write(\"\\n\")\n"
   ]
  },
  {
   "cell_type": "code",
   "execution_count": null,
   "id": "4f8aef63",
   "metadata": {},
   "outputs": [],
   "source": []
  }
 ],
 "metadata": {
  "kernelspec": {
   "display_name": "Python 3 (ipykernel)",
   "language": "python",
   "name": "python3"
  },
  "language_info": {
   "codemirror_mode": {
    "name": "ipython",
    "version": 3
   },
   "file_extension": ".py",
   "mimetype": "text/x-python",
   "name": "python",
   "nbconvert_exporter": "python",
   "pygments_lexer": "ipython3",
   "version": "3.9.7"
  }
 },
 "nbformat": 4,
 "nbformat_minor": 5
}
